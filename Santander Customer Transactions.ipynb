{
 "cells": [
  {
   "cell_type": "code",
   "execution_count": 153,
   "metadata": {},
   "outputs": [],
   "source": [
    "# Load Libraries\n",
    "import pandas as pd\n",
    "import numpy as np\n",
    "from sklearn.linear_model import SGDClassifier\n",
    "from sklearn.model_selection import train_test_split\n",
    "from sklearn.metrics import confusion_matrix\n",
    "from imblearn import under_sampling, over_sampling\n",
    "from imblearn.over_sampling import SMOTE\n",
    "from sklearn.ensemble import RandomForestRegressor\n",
    "from matplotlib import pyplot\n",
    "import matplotlib.pyplot as plt\n",
    "from sklearn import datasets, metrics, model_selection, svm\n",
    "from sklearn.model_selection import cross_val_score\n",
    "from sklearn.svm import SVR\n"
   ]
  },
  {
   "cell_type": "code",
   "execution_count": 84,
   "metadata": {},
   "outputs": [
    {
     "name": "stdout",
     "output_type": "stream",
     "text": [
      "Note: you may need to restart the kernel to use updated packages.\n"
     ]
    },
    {
     "name": "stderr",
     "output_type": "stream",
     "text": [
      "ERROR: Could not find a version that satisfies the requirement yellowbrick.model_selection (from versions: none)\n",
      "ERROR: No matching distribution found for yellowbrick.model_selection\n"
     ]
    }
   ],
   "source": [
    " #pip install yellowbrick.model_selection --user"
   ]
  },
  {
   "cell_type": "code",
   "execution_count": 121,
   "metadata": {},
   "outputs": [],
   "source": [
    "# Load data\n",
    "Train = pd.read_csv(\"train.csv\")\n",
    "Test = pd.read_csv(\"test.csv\")"
   ]
  },
  {
   "cell_type": "code",
   "execution_count": 122,
   "metadata": {},
   "outputs": [],
   "source": [
    "# Fix data\n",
    "del Train['ID_code']\n",
    "del Test['ID_code']"
   ]
  },
  {
   "cell_type": "code",
   "execution_count": 123,
   "metadata": {},
   "outputs": [],
   "source": [
    "# Split Train into X,Y\n",
    "X = Train.loc[:,Train.columns != 'target']\n",
    "Y = Train['target']"
   ]
  },
  {
   "cell_type": "code",
   "execution_count": 124,
   "metadata": {},
   "outputs": [],
   "source": [
    "# Make train test split out of train dataset \n",
    "X_train, X_test, y_train, y_test = train_test_split(X,Y,test_size = 0.25, random_state=42)"
   ]
  },
  {
   "cell_type": "code",
   "execution_count": 125,
   "metadata": {},
   "outputs": [],
   "source": [
    "# Replace Nan's and inf's\n",
    "X_train = X_train.replace((np.inf, -np.inf, np.nan), 0).reset_index(drop=True)"
   ]
  },
  {
   "cell_type": "code",
   "execution_count": 126,
   "metadata": {},
   "outputs": [],
   "source": [
    "# USING SMOTE TO DEAL WITH THE IMBALANCE\n",
    "sm = SMOTE(random_state = 2)\n",
    "X_train_Smote, Y_train_Smote = sm.fit_resample(X_train, y_train.ravel())"
   ]
  },
  {
   "cell_type": "code",
   "execution_count": 95,
   "metadata": {},
   "outputs": [],
   "source": [
    "# SGD Classifer \n",
    "sgd = SGDClassifier(loss='modified_huber',shuffle=True,random_state=101, learning_rate= 'optimal')\n",
    "sgd.fit(X_train_Smote,Y_train_Smote)"
   ]
  },
  {
   "cell_type": "code",
   "execution_count": 163,
   "metadata": {},
   "outputs": [
    {
     "name": "stdout",
     "output_type": "stream",
     "text": [
      "[[36299  1145]\n",
      " [ 3598   608]]\n"
     ]
    }
   ],
   "source": [
    "# Confusion Matrix\n",
    "SGD_pred = sgd.predict(X_test)\n",
    "Confusion_SGD = confusion_matrix(y_test,y_pred)\n",
    "print(Confusion_SGD)"
   ]
  },
  {
   "cell_type": "code",
   "execution_count": 155,
   "metadata": {},
   "outputs": [
    {
     "data": {
      "text/plain": [
       "array([0.88572286, 0.90849085, 0.90249025])"
      ]
     },
     "execution_count": 155,
     "metadata": {},
     "output_type": "execute_result"
    }
   ],
   "source": [
    "# Cross Validation\n",
    "cross_val_score(sgd, X_train_Smote_short, Y_train_Smote_short, cv=3, scoring=\"accuracy\")"
   ]
  },
  {
   "cell_type": "code",
   "execution_count": 21,
   "metadata": {},
   "outputs": [],
   "source": [
    "# Sample for the Random Forest\n",
    "X_train_Smote_short = X_train_Smote.head(10000)\n",
    "Y_train_Smote_short = Y_train_Smote[:10000]"
   ]
  },
  {
   "cell_type": "code",
   "execution_count": null,
   "metadata": {},
   "outputs": [],
   "source": [
    "model = RandomForestRegressor()\n",
    "model.fit(X_train_Smote_short, Y_train_Smote_short)"
   ]
  },
  {
   "cell_type": "code",
   "execution_count": null,
   "metadata": {},
   "outputs": [],
   "source": [
    "# Predicting / Confusion Matrix\n",
    "rf_pred = (model.predict(X_test)[:,] >= 0.21).astype(bool)\n",
    "Confusion_RF = confusion_matrix(y_test,rf_pred)\n",
    "print(Confusion_RF)"
   ]
  },
  {
   "cell_type": "code",
   "execution_count": 160,
   "metadata": {},
   "outputs": [
    {
     "name": "stderr",
     "output_type": "stream",
     "text": [
      "C:\\Users\\nofoi\\AppData\\Roaming\\Python\\Python38\\site-packages\\sklearn\\model_selection\\_validation.py:770: UserWarning: Scoring failed. The score on this train-test partition for these parameters will be set to nan. Details: \n",
      "Traceback (most recent call last):\n",
      "  File \"C:\\Users\\nofoi\\AppData\\Roaming\\Python\\Python38\\site-packages\\sklearn\\model_selection\\_validation.py\", line 761, in _score\n",
      "    scores = scorer(estimator, X_test, y_test)\n",
      "  File \"C:\\Users\\nofoi\\AppData\\Roaming\\Python\\Python38\\site-packages\\sklearn\\metrics\\_scorer.py\", line 103, in __call__\n",
      "    score = scorer._score(cached_call, estimator, *args, **kwargs)\n",
      "  File \"C:\\Users\\nofoi\\AppData\\Roaming\\Python\\Python38\\site-packages\\sklearn\\metrics\\_scorer.py\", line 264, in _score\n",
      "    return self._sign * self._score_func(y_true, y_pred, **self._kwargs)\n",
      "  File \"C:\\Users\\nofoi\\AppData\\Roaming\\Python\\Python38\\site-packages\\sklearn\\metrics\\_classification.py\", line 211, in accuracy_score\n",
      "    y_type, y_true, y_pred = _check_targets(y_true, y_pred)\n",
      "  File \"C:\\Users\\nofoi\\AppData\\Roaming\\Python\\Python38\\site-packages\\sklearn\\metrics\\_classification.py\", line 93, in _check_targets\n",
      "    raise ValueError(\n",
      "ValueError: Classification metrics can't handle a mix of binary and continuous targets\n",
      "\n",
      "  warnings.warn(\n",
      "C:\\Users\\nofoi\\AppData\\Roaming\\Python\\Python38\\site-packages\\sklearn\\model_selection\\_validation.py:770: UserWarning: Scoring failed. The score on this train-test partition for these parameters will be set to nan. Details: \n",
      "Traceback (most recent call last):\n",
      "  File \"C:\\Users\\nofoi\\AppData\\Roaming\\Python\\Python38\\site-packages\\sklearn\\model_selection\\_validation.py\", line 761, in _score\n",
      "    scores = scorer(estimator, X_test, y_test)\n",
      "  File \"C:\\Users\\nofoi\\AppData\\Roaming\\Python\\Python38\\site-packages\\sklearn\\metrics\\_scorer.py\", line 103, in __call__\n",
      "    score = scorer._score(cached_call, estimator, *args, **kwargs)\n",
      "  File \"C:\\Users\\nofoi\\AppData\\Roaming\\Python\\Python38\\site-packages\\sklearn\\metrics\\_scorer.py\", line 264, in _score\n",
      "    return self._sign * self._score_func(y_true, y_pred, **self._kwargs)\n",
      "  File \"C:\\Users\\nofoi\\AppData\\Roaming\\Python\\Python38\\site-packages\\sklearn\\metrics\\_classification.py\", line 211, in accuracy_score\n",
      "    y_type, y_true, y_pred = _check_targets(y_true, y_pred)\n",
      "  File \"C:\\Users\\nofoi\\AppData\\Roaming\\Python\\Python38\\site-packages\\sklearn\\metrics\\_classification.py\", line 93, in _check_targets\n",
      "    raise ValueError(\n",
      "ValueError: Classification metrics can't handle a mix of binary and continuous targets\n",
      "\n",
      "  warnings.warn(\n",
      "C:\\Users\\nofoi\\AppData\\Roaming\\Python\\Python38\\site-packages\\sklearn\\model_selection\\_validation.py:770: UserWarning: Scoring failed. The score on this train-test partition for these parameters will be set to nan. Details: \n",
      "Traceback (most recent call last):\n",
      "  File \"C:\\Users\\nofoi\\AppData\\Roaming\\Python\\Python38\\site-packages\\sklearn\\model_selection\\_validation.py\", line 761, in _score\n",
      "    scores = scorer(estimator, X_test, y_test)\n",
      "  File \"C:\\Users\\nofoi\\AppData\\Roaming\\Python\\Python38\\site-packages\\sklearn\\metrics\\_scorer.py\", line 103, in __call__\n",
      "    score = scorer._score(cached_call, estimator, *args, **kwargs)\n",
      "  File \"C:\\Users\\nofoi\\AppData\\Roaming\\Python\\Python38\\site-packages\\sklearn\\metrics\\_scorer.py\", line 264, in _score\n",
      "    return self._sign * self._score_func(y_true, y_pred, **self._kwargs)\n",
      "  File \"C:\\Users\\nofoi\\AppData\\Roaming\\Python\\Python38\\site-packages\\sklearn\\metrics\\_classification.py\", line 211, in accuracy_score\n",
      "    y_type, y_true, y_pred = _check_targets(y_true, y_pred)\n",
      "  File \"C:\\Users\\nofoi\\AppData\\Roaming\\Python\\Python38\\site-packages\\sklearn\\metrics\\_classification.py\", line 93, in _check_targets\n",
      "    raise ValueError(\n",
      "ValueError: Classification metrics can't handle a mix of binary and continuous targets\n",
      "\n",
      "  warnings.warn(\n"
     ]
    },
    {
     "data": {
      "text/plain": [
       "array([nan, nan, nan])"
      ]
     },
     "execution_count": 160,
     "metadata": {},
     "output_type": "execute_result"
    }
   ],
   "source": [
    "# Cross Validation \n",
    "cross_val_score(model, X_train_Smote_short, Y_train_Smote_short, cv=3, scoring=\"accuracy\")"
   ]
  },
  {
   "cell_type": "code",
   "execution_count": 149,
   "metadata": {},
   "outputs": [
    {
     "name": "stdout",
     "output_type": "stream",
     "text": [
      "Feature: 0, Score: 0.00627\n",
      "Feature: 1, Score: 0.00572\n",
      "Feature: 2, Score: 0.00609\n",
      "Feature: 3, Score: 0.00587\n",
      "Feature: 4, Score: 0.00339\n",
      "Feature: 5, Score: 0.00429\n",
      "Feature: 6, Score: 0.01085\n",
      "Feature: 7, Score: 0.00528\n",
      "Feature: 8, Score: 0.00412\n",
      "Feature: 9, Score: 0.00496\n",
      "Feature: 10, Score: 0.00373\n",
      "Feature: 11, Score: 0.00410\n",
      "Feature: 12, Score: 0.01863\n",
      "Feature: 13, Score: 0.00778\n",
      "Feature: 14, Score: 0.00332\n",
      "Feature: 15, Score: 0.00386\n",
      "Feature: 16, Score: 0.00268\n",
      "Feature: 17, Score: 0.00436\n",
      "Feature: 18, Score: 0.00637\n",
      "Feature: 19, Score: 0.00360\n",
      "Feature: 20, Score: 0.00356\n",
      "Feature: 21, Score: 0.00559\n",
      "Feature: 22, Score: 0.00751\n",
      "Feature: 23, Score: 0.00426\n",
      "Feature: 24, Score: 0.00476\n",
      "Feature: 25, Score: 0.00343\n",
      "Feature: 26, Score: 0.01087\n",
      "Feature: 27, Score: 0.00258\n",
      "Feature: 28, Score: 0.00490\n",
      "Feature: 29, Score: 0.00252\n",
      "Feature: 30, Score: 0.00482\n",
      "Feature: 31, Score: 0.00484\n",
      "Feature: 32, Score: 0.00629\n",
      "Feature: 33, Score: 0.00358\n",
      "Feature: 34, Score: 0.00706\n",
      "Feature: 35, Score: 0.00682\n",
      "Feature: 36, Score: 0.00499\n",
      "Feature: 37, Score: 0.00470\n",
      "Feature: 38, Score: 0.00228\n",
      "Feature: 39, Score: 0.00457\n",
      "Feature: 40, Score: 0.00755\n",
      "Feature: 41, Score: 0.00490\n",
      "Feature: 42, Score: 0.00396\n",
      "Feature: 43, Score: 0.00412\n",
      "Feature: 44, Score: 0.00724\n",
      "Feature: 45, Score: 0.00444\n",
      "Feature: 46, Score: 0.00238\n",
      "Feature: 47, Score: 0.00373\n",
      "Feature: 48, Score: 0.00438\n",
      "Feature: 49, Score: 0.00475\n",
      "Feature: 50, Score: 0.00408\n",
      "Feature: 51, Score: 0.00385\n",
      "Feature: 52, Score: 0.00395\n",
      "Feature: 53, Score: 0.01191\n",
      "Feature: 54, Score: 0.00463\n",
      "Feature: 55, Score: 0.00382\n",
      "Feature: 56, Score: 0.00482\n",
      "Feature: 57, Score: 0.00286\n",
      "Feature: 58, Score: 0.00579\n",
      "Feature: 59, Score: 0.00310\n",
      "Feature: 60, Score: 0.00353\n",
      "Feature: 61, Score: 0.00340\n",
      "Feature: 62, Score: 0.00370\n",
      "Feature: 63, Score: 0.00278\n",
      "Feature: 64, Score: 0.00225\n",
      "Feature: 65, Score: 0.00260\n",
      "Feature: 66, Score: 0.00454\n",
      "Feature: 67, Score: 0.00629\n",
      "Feature: 68, Score: 0.00509\n",
      "Feature: 69, Score: 0.00415\n",
      "Feature: 70, Score: 0.00376\n",
      "Feature: 71, Score: 0.00358\n",
      "Feature: 72, Score: 0.00323\n",
      "Feature: 73, Score: 0.00415\n",
      "Feature: 74, Score: 0.00267\n",
      "Feature: 75, Score: 0.00767\n",
      "Feature: 76, Score: 0.00530\n",
      "Feature: 77, Score: 0.00283\n",
      "Feature: 78, Score: 0.00773\n",
      "Feature: 79, Score: 0.00285\n",
      "Feature: 80, Score: 0.00727\n",
      "Feature: 81, Score: 0.01215\n",
      "Feature: 82, Score: 0.00500\n",
      "Feature: 83, Score: 0.00452\n",
      "Feature: 84, Score: 0.00294\n",
      "Feature: 85, Score: 0.00341\n",
      "Feature: 86, Score: 0.00487\n",
      "Feature: 87, Score: 0.00479\n",
      "Feature: 88, Score: 0.00308\n",
      "Feature: 89, Score: 0.00421\n",
      "Feature: 90, Score: 0.00329\n",
      "Feature: 91, Score: 0.00545\n",
      "Feature: 92, Score: 0.00937\n",
      "Feature: 93, Score: 0.00523\n",
      "Feature: 94, Score: 0.00786\n",
      "Feature: 95, Score: 0.00479\n",
      "Feature: 96, Score: 0.00372\n",
      "Feature: 97, Score: 0.00339\n",
      "Feature: 98, Score: 0.00394\n",
      "Feature: 99, Score: 0.00924\n",
      "Feature: 100, Score: 0.00306\n",
      "Feature: 101, Score: 0.00454\n",
      "Feature: 102, Score: 0.00336\n",
      "Feature: 103, Score: 0.00318\n",
      "Feature: 104, Score: 0.00431\n",
      "Feature: 105, Score: 0.00449\n",
      "Feature: 106, Score: 0.00509\n",
      "Feature: 107, Score: 0.00466\n",
      "Feature: 108, Score: 0.00694\n",
      "Feature: 109, Score: 0.01112\n",
      "Feature: 110, Score: 0.00951\n",
      "Feature: 111, Score: 0.00407\n",
      "Feature: 112, Score: 0.00479\n",
      "Feature: 113, Score: 0.00353\n",
      "Feature: 114, Score: 0.00472\n",
      "Feature: 115, Score: 0.00395\n",
      "Feature: 116, Score: 0.00399\n",
      "Feature: 117, Score: 0.00427\n",
      "Feature: 118, Score: 0.00698\n",
      "Feature: 119, Score: 0.00470\n",
      "Feature: 120, Score: 0.00342\n",
      "Feature: 121, Score: 0.00455\n",
      "Feature: 122, Score: 0.00619\n",
      "Feature: 123, Score: 0.00442\n",
      "Feature: 124, Score: 0.00432\n",
      "Feature: 125, Score: 0.00427\n",
      "Feature: 126, Score: 0.00304\n",
      "Feature: 127, Score: 0.00621\n",
      "Feature: 128, Score: 0.00365\n",
      "Feature: 129, Score: 0.00489\n",
      "Feature: 130, Score: 0.00510\n",
      "Feature: 131, Score: 0.00512\n",
      "Feature: 132, Score: 0.00531\n",
      "Feature: 133, Score: 0.00863\n",
      "Feature: 134, Score: 0.00339\n",
      "Feature: 135, Score: 0.00457\n",
      "Feature: 136, Score: 0.00399\n",
      "Feature: 137, Score: 0.00378\n",
      "Feature: 138, Score: 0.00370\n",
      "Feature: 139, Score: 0.01205\n",
      "Feature: 140, Score: 0.00373\n",
      "Feature: 141, Score: 0.00591\n",
      "Feature: 142, Score: 0.00547\n",
      "Feature: 143, Score: 0.00389\n",
      "Feature: 144, Score: 0.00496\n",
      "Feature: 145, Score: 0.00482\n",
      "Feature: 146, Score: 0.00928\n",
      "Feature: 147, Score: 0.00379\n",
      "Feature: 148, Score: 0.00460\n",
      "Feature: 149, Score: 0.00424\n",
      "Feature: 150, Score: 0.00453\n",
      "Feature: 151, Score: 0.00573\n",
      "Feature: 152, Score: 0.00392\n",
      "Feature: 153, Score: 0.00314\n",
      "Feature: 154, Score: 0.00615\n",
      "Feature: 155, Score: 0.00447\n",
      "Feature: 156, Score: 0.00351\n",
      "Feature: 157, Score: 0.00588\n",
      "Feature: 158, Score: 0.00340\n",
      "Feature: 159, Score: 0.00426\n",
      "Feature: 160, Score: 0.00402\n",
      "Feature: 161, Score: 0.00376\n",
      "Feature: 162, Score: 0.00437\n",
      "Feature: 163, Score: 0.00628\n",
      "Feature: 164, Score: 0.00761\n",
      "Feature: 165, Score: 0.00772\n",
      "Feature: 166, Score: 0.00710\n",
      "Feature: 167, Score: 0.00334\n",
      "Feature: 168, Score: 0.00324\n",
      "Feature: 169, Score: 0.00487\n",
      "Feature: 170, Score: 0.00778\n",
      "Feature: 171, Score: 0.00308\n",
      "Feature: 172, Score: 0.00428\n",
      "Feature: 173, Score: 0.00692\n",
      "Feature: 174, Score: 0.01072\n",
      "Feature: 175, Score: 0.00422\n",
      "Feature: 176, Score: 0.00405\n",
      "Feature: 177, Score: 0.00549\n",
      "Feature: 178, Score: 0.00410\n",
      "Feature: 179, Score: 0.00608\n",
      "Feature: 180, Score: 0.00420\n",
      "Feature: 181, Score: 0.00270\n",
      "Feature: 182, Score: 0.00368\n",
      "Feature: 183, Score: 0.00336\n",
      "Feature: 184, Score: 0.00545\n",
      "Feature: 185, Score: 0.00395\n",
      "Feature: 186, Score: 0.00273\n",
      "Feature: 187, Score: 0.00499\n",
      "Feature: 188, Score: 0.00314\n",
      "Feature: 189, Score: 0.00330\n",
      "Feature: 190, Score: 0.00646\n",
      "Feature: 191, Score: 0.00842\n",
      "Feature: 192, Score: 0.00306\n",
      "Feature: 193, Score: 0.00281\n",
      "Feature: 194, Score: 0.00336\n",
      "Feature: 195, Score: 0.00374\n",
      "Feature: 196, Score: 0.00468\n",
      "Feature: 197, Score: 0.00456\n",
      "Feature: 198, Score: 0.01271\n",
      "Feature: 199, Score: 0.00404\n"
     ]
    },
    {
     "data": {
      "image/png": "[encoded data removed]",
      "text/plain": [
       "<Figure size 432x288 with 1 Axes>"
      ]
     },
     "metadata": {
      "needs_background": "light"
     },
     "output_type": "display_data"
    }
   ],
   "source": [
    "2# get importance\n",
    "importance = model.feature_importances_\n",
    "Import = pd.DataFrame()\n",
    "t = 0 \n",
    "# summarize feature importance\n",
    "for i,v in enumerate(importance):\n",
    "    print('Feature: %0d, Score: %.5f' % (i,v))\n",
    "    #if v > .0055: \n",
    "        \n",
    "        \n",
    "    \n",
    "# plot feature importance\n",
    "pyplot.bar([x for x in range(len(importance))], importance)\n",
    "pyplot.show()"
   ]
  },
  {
   "cell_type": "code",
   "execution_count": 150,
   "metadata": {
    "scrolled": false
   },
   "outputs": [
    {
     "data": {
      "text/plain": [
       "[0.006271148246142824,\n",
       " 0.005718554520516375,\n",
       " 0.006091856432258389,\n",
       " 0.005870891558139877,\n",
       " 0.010853183610105293,\n",
       " 0.018628978633697942,\n",
       " 0.007782714209690188,\n",
       " 0.006371319114279175,\n",
       " 0.005592022132342104,\n",
       " 0.007511381374982585,\n",
       " 0.010871280103303783,\n",
       " 0.006291304651574776,\n",
       " 0.007056149245128297,\n",
       " 0.006820464901146833,\n",
       " 0.00754520427270943,\n",
       " 0.00724400345471267,\n",
       " 0.0119104057063744,\n",
       " 0.005793446069971758,\n",
       " 0.006287155145890871,\n",
       " 0.007670710432902656,\n",
       " 0.0077331113793227295,\n",
       " 0.007267607629547452,\n",
       " 0.012145060813964072,\n",
       " 0.009372731044793518,\n",
       " 0.007860975008946662,\n",
       " 0.009240574038361522,\n",
       " 0.006940863940220417,\n",
       " 0.011121027847850802,\n",
       " 0.009509174356567538,\n",
       " 0.0069759392120749475,\n",
       " 0.006190199043304975,\n",
       " 0.006205443698081733,\n",
       " 0.008634063274182714,\n",
       " 0.012054505510026126,\n",
       " 0.005911029834513093,\n",
       " 0.00927515582481147,\n",
       " 0.0057330835189988594,\n",
       " 0.006147835761402202,\n",
       " 0.005882301614569444,\n",
       " 0.006277019905194825,\n",
       " 0.007614576459112684,\n",
       " 0.007718392544318564,\n",
       " 0.0070997677956594505,\n",
       " 0.007780219972479123,\n",
       " 0.0069162040566407125,\n",
       " 0.010724246700742575,\n",
       " 0.006083423005983497,\n",
       " 0.006458281353020201,\n",
       " 0.00842375307194874,\n",
       " 0.012711364057362442]"
      ]
     },
     "execution_count": 150,
     "metadata": {},
     "output_type": "execute_result"
    }
   ],
   "source": [
    "# Most important importance\n",
    "importance2 = [i for i in importance if i >=.0055]\n",
    "importance2\n",
    "#importance"
   ]
  },
  {
   "cell_type": "code",
   "execution_count": 99,
   "metadata": {},
   "outputs": [
    {
     "data": {
      "text/plain": [
       "SVR(C=100, degree=2, kernel='poly')"
      ]
     },
     "execution_count": 99,
     "metadata": {},
     "output_type": "execute_result"
    }
   ],
   "source": [
    ",\n",
    "svm_poly_reg = SVR(kernel=\"poly\", degree=2, C=100, epsilon=0.1, gamma=\"scale\")\n",
    "svm_poly_reg.fit(X_train_Smote_short, Y_train_Smote_short)"
   ]
  },
  {
   "cell_type": "code",
   "execution_count": 110,
   "metadata": {},
   "outputs": [
    {
     "name": "stdout",
     "output_type": "stream",
     "text": [
      "[[33637  3807]\n",
      " [ 2974  1232]]\n"
     ]
    },
    {
     "data": {
      "text/plain": [
       "array([False, False, False, ..., False, False, False])"
      ]
     },
     "execution_count": 110,
     "metadata": {},
     "output_type": "execute_result"
    }
   ],
   "source": [
    "# Confusion Matrix\n",
    "y_pred = (svm_poly_reg.predict(X_test)[:,] >= 0.5).astype(bool)\n",
    "Confusion_SVM = confusion_matrix(y_test,y_pred)\n",
    "print(Confusion_SVM)"
   ]
  },
  {
   "cell_type": "code",
   "execution_count": 113,
   "metadata": {},
   "outputs": [
    {
     "name": "stdout",
     "output_type": "stream",
     "text": [
      "[[36299  1145]\n",
      " [ 3598   608]]\n"
     ]
    }
   ],
   "source": [
    "y_pred = (svm_poly_reg.predict(X_test)[:,] >= 0.7).astype(bool)\n",
    "Confusion_SVM = confusion_matrix(y_test,y_pred)\n",
    "print(Confusion_SVM)"
   ]
  },
  {
   "cell_type": "code",
   "execution_count": 151,
   "metadata": {},
   "outputs": [
    {
     "ename": "ModuleNotFoundError",
     "evalue": "No module named 'scikitplot'",
     "output_type": "error",
     "traceback": [
      "\u001b[1;31m---------------------------------------------------------------------------\u001b[0m",
      "\u001b[1;31mModuleNotFoundError\u001b[0m                       Traceback (most recent call last)",
      "\u001b[1;32m<ipython-input-151-1c68c7b13cc6>\u001b[0m in \u001b[0;36m<module>\u001b[1;34m\u001b[0m\n\u001b[1;32m----> 1\u001b[1;33m \u001b[1;32mimport\u001b[0m \u001b[0mscikitplot\u001b[0m \u001b[1;32mas\u001b[0m \u001b[0mskplt\u001b[0m\u001b[1;33m\u001b[0m\u001b[1;33m\u001b[0m\u001b[0m\n\u001b[0m\u001b[0;32m      2\u001b[0m \u001b[1;32mimport\u001b[0m \u001b[0mmatplotlib\u001b[0m\u001b[1;33m.\u001b[0m\u001b[0mpyplot\u001b[0m \u001b[1;32mas\u001b[0m \u001b[0mplt\u001b[0m\u001b[1;33m\u001b[0m\u001b[1;33m\u001b[0m\u001b[0m\n",
      "\u001b[1;31mModuleNotFoundError\u001b[0m: No module named 'scikitplot'"
     ]
    }
   ],
   "source": [
    "import scikitplot as skplt\n",
    "import matplotlib.pyplot as plt\n"
   ]
  },
  {
   "cell_type": "code",
   "execution_count": 161,
   "metadata": {},
   "outputs": [
    {
     "name": "stderr",
     "output_type": "stream",
     "text": [
      "C:\\Users\\nofoi\\AppData\\Roaming\\Python\\Python38\\site-packages\\sklearn\\utils\\deprecation.py:87: FutureWarning: Function plot_roc_curve is deprecated; Function :func:`plot_roc_curve` is deprecated in 1.0 and will be removed in 1.2. Use one of the class methods: :meth:`sklearn.metric.RocCurveDisplay.from_predictions` or :meth:`sklearn.metric.RocCurveDisplay.from_estimator`.\n",
      "  warnings.warn(msg, category=FutureWarning)\n"
     ]
    },
    {
     "ename": "ValueError",
     "evalue": "Expected 'estimator' to be a binary classifier, but got SVR",
     "output_type": "error",
     "traceback": [
      "\u001b[1;31m---------------------------------------------------------------------------\u001b[0m",
      "\u001b[1;31mValueError\u001b[0m                                Traceback (most recent call last)",
      "\u001b[1;32m<ipython-input-161-0cae8945f937>\u001b[0m in \u001b[0;36m<module>\u001b[1;34m\u001b[0m\n\u001b[1;32m----> 1\u001b[1;33m \u001b[0mmetrics\u001b[0m\u001b[1;33m.\u001b[0m\u001b[0mplot_roc_curve\u001b[0m\u001b[1;33m(\u001b[0m\u001b[0msvm_poly_reg\u001b[0m\u001b[1;33m,\u001b[0m \u001b[0mX_test\u001b[0m\u001b[1;33m,\u001b[0m \u001b[0my_test\u001b[0m\u001b[1;33m)\u001b[0m\u001b[1;33m\u001b[0m\u001b[1;33m\u001b[0m\u001b[0m\n\u001b[0m",
      "\u001b[1;32m~\\AppData\\Roaming\\Python\\Python38\\site-packages\\sklearn\\utils\\deprecation.py\u001b[0m in \u001b[0;36mwrapped\u001b[1;34m(*args, **kwargs)\u001b[0m\n\u001b[0;32m     86\u001b[0m         \u001b[1;32mdef\u001b[0m \u001b[0mwrapped\u001b[0m\u001b[1;33m(\u001b[0m\u001b[1;33m*\u001b[0m\u001b[0margs\u001b[0m\u001b[1;33m,\u001b[0m \u001b[1;33m**\u001b[0m\u001b[0mkwargs\u001b[0m\u001b[1;33m)\u001b[0m\u001b[1;33m:\u001b[0m\u001b[1;33m\u001b[0m\u001b[1;33m\u001b[0m\u001b[0m\n\u001b[0;32m     87\u001b[0m             \u001b[0mwarnings\u001b[0m\u001b[1;33m.\u001b[0m\u001b[0mwarn\u001b[0m\u001b[1;33m(\u001b[0m\u001b[0mmsg\u001b[0m\u001b[1;33m,\u001b[0m \u001b[0mcategory\u001b[0m\u001b[1;33m=\u001b[0m\u001b[0mFutureWarning\u001b[0m\u001b[1;33m)\u001b[0m\u001b[1;33m\u001b[0m\u001b[1;33m\u001b[0m\u001b[0m\n\u001b[1;32m---> 88\u001b[1;33m             \u001b[1;32mreturn\u001b[0m \u001b[0mfun\u001b[0m\u001b[1;33m(\u001b[0m\u001b[1;33m*\u001b[0m\u001b[0margs\u001b[0m\u001b[1;33m,\u001b[0m \u001b[1;33m**\u001b[0m\u001b[0mkwargs\u001b[0m\u001b[1;33m)\u001b[0m\u001b[1;33m\u001b[0m\u001b[1;33m\u001b[0m\u001b[0m\n\u001b[0m\u001b[0;32m     89\u001b[0m \u001b[1;33m\u001b[0m\u001b[0m\n\u001b[0;32m     90\u001b[0m         \u001b[0mwrapped\u001b[0m\u001b[1;33m.\u001b[0m\u001b[0m__doc__\u001b[0m \u001b[1;33m=\u001b[0m \u001b[0mself\u001b[0m\u001b[1;33m.\u001b[0m\u001b[0m_update_doc\u001b[0m\u001b[1;33m(\u001b[0m\u001b[0mwrapped\u001b[0m\u001b[1;33m.\u001b[0m\u001b[0m__doc__\u001b[0m\u001b[1;33m)\u001b[0m\u001b[1;33m\u001b[0m\u001b[1;33m\u001b[0m\u001b[0m\n",
      "\u001b[1;32m~\\AppData\\Roaming\\Python\\Python38\\site-packages\\sklearn\\metrics\\_plot\\roc_curve.py\u001b[0m in \u001b[0;36mplot_roc_curve\u001b[1;34m(estimator, X, y, sample_weight, drop_intermediate, response_method, name, ax, pos_label, **kwargs)\u001b[0m\n\u001b[0;32m    449\u001b[0m     \u001b[0mcheck_matplotlib_support\u001b[0m\u001b[1;33m(\u001b[0m\u001b[1;34m\"plot_roc_curve\"\u001b[0m\u001b[1;33m)\u001b[0m\u001b[1;33m\u001b[0m\u001b[1;33m\u001b[0m\u001b[0m\n\u001b[0;32m    450\u001b[0m \u001b[1;33m\u001b[0m\u001b[0m\n\u001b[1;32m--> 451\u001b[1;33m     y_pred, pos_label = _get_response(\n\u001b[0m\u001b[0;32m    452\u001b[0m         \u001b[0mX\u001b[0m\u001b[1;33m,\u001b[0m \u001b[0mestimator\u001b[0m\u001b[1;33m,\u001b[0m \u001b[0mresponse_method\u001b[0m\u001b[1;33m,\u001b[0m \u001b[0mpos_label\u001b[0m\u001b[1;33m=\u001b[0m\u001b[0mpos_label\u001b[0m\u001b[1;33m\u001b[0m\u001b[1;33m\u001b[0m\u001b[0m\n\u001b[0;32m    453\u001b[0m     )\n",
      "\u001b[1;32m~\\AppData\\Roaming\\Python\\Python38\\site-packages\\sklearn\\metrics\\_plot\\base.py\u001b[0m in \u001b[0;36m_get_response\u001b[1;34m(X, estimator, response_method, pos_label)\u001b[0m\n\u001b[0;32m     87\u001b[0m \u001b[1;33m\u001b[0m\u001b[0m\n\u001b[0;32m     88\u001b[0m     \u001b[1;32mif\u001b[0m \u001b[1;32mnot\u001b[0m \u001b[0mis_classifier\u001b[0m\u001b[1;33m(\u001b[0m\u001b[0mestimator\u001b[0m\u001b[1;33m)\u001b[0m\u001b[1;33m:\u001b[0m\u001b[1;33m\u001b[0m\u001b[1;33m\u001b[0m\u001b[0m\n\u001b[1;32m---> 89\u001b[1;33m         \u001b[1;32mraise\u001b[0m \u001b[0mValueError\u001b[0m\u001b[1;33m(\u001b[0m\u001b[0mclassification_error\u001b[0m\u001b[1;33m)\u001b[0m\u001b[1;33m\u001b[0m\u001b[1;33m\u001b[0m\u001b[0m\n\u001b[0m\u001b[0;32m     90\u001b[0m \u001b[1;33m\u001b[0m\u001b[0m\n\u001b[0;32m     91\u001b[0m     \u001b[0mprediction_method\u001b[0m \u001b[1;33m=\u001b[0m \u001b[0m_check_classifier_response_method\u001b[0m\u001b[1;33m(\u001b[0m\u001b[0mestimator\u001b[0m\u001b[1;33m,\u001b[0m \u001b[0mresponse_method\u001b[0m\u001b[1;33m)\u001b[0m\u001b[1;33m\u001b[0m\u001b[1;33m\u001b[0m\u001b[0m\n",
      "\u001b[1;31mValueError\u001b[0m: Expected 'estimator' to be a binary classifier, but got SVR"
     ]
    }
   ],
   "source": [
    "metrics.plot_roc_curve(svm_poly_reg, X_test, y_test)"
   ]
  },
  {
   "cell_type": "code",
   "execution_count": 166,
   "metadata": {},
   "outputs": [
    {
     "data": {
      "image/png": "[encoded data removed]",
      "text/plain": [
       "<Figure size 432x288 with 1 Axes>"
      ]
     },
     "metadata": {
      "needs_background": "light"
     },
     "output_type": "display_data"
    },
    {
     "data": {
      "image/png": "[encoded data removed]",
      "text/plain": [
       "<Figure size 432x288 with 1 Axes>"
      ]
     },
     "metadata": {
      "needs_background": "light"
     },
     "output_type": "display_data"
    },
    {
     "data": {
      "image/png": "[encoded data removed]",
      "text/plain": [
       "<Figure size 432x288 with 1 Axes>"
      ]
     },
     "metadata": {
      "needs_background": "light"
     },
     "output_type": "display_data"
    }
   ],
   "source": [
    "\n",
    "fpr, tpr, _ = metrics.roc_curve(y_test, SGD_pred)\n",
    "\n",
    "#create ROC curve\n",
    "plt.plot(fpr,tpr)\n",
    "plt.ylabel('True Positive Rate')\n",
    "plt.xlabel('False Positive Rate')\n",
    "plt.show()\n",
    "\n",
    "fpr, tpr, _ = metrics.roc_curve(y_test, rf_pred)\n",
    "\n",
    "#create ROC curve\n",
    "plt.plot(fpr,tpr)\n",
    "plt.ylabel('True Positive Rate')\n",
    "plt.xlabel('False Positive Rate')\n",
    "plt.show()\n",
    "\n",
    "fpr, tpr, _ = metrics.roc_curve(y_test, y_pred)\n",
    "\n",
    "#create ROC curve\n",
    "plt.plot(fpr,tpr)\n",
    "plt.ylabel('True Positive Rate')\n",
    "plt.xlabel('False Positive Rate')\n",
    "plt.show()"
   ]
  }
 ],
 "metadata": {
  "kernelspec": {
   "display_name": "Python 3",
   "language": "python",
   "name": "python3"
  },
  "language_info": {
   "codemirror_mode": {
    "name": "ipython",
    "version": 3
   },
   "file_extension": ".py",
   "mimetype": "text/x-python",
   "name": "python",
   "nbconvert_exporter": "python",
   "pygments_lexer": "ipython3",
   "version": "3.8.3"
  }
 },
 "nbformat": 4,
 "nbformat_minor": 4
}
